{
 "cells": [
  {
   "cell_type": "markdown",
   "metadata": {},
   "source": [
    "# Non Planar Reconstruction (NPR) and Cross-Sectional View of a Vessel\n",
    "\n",
    "aseresti@github.com\n",
    "\n",
    "The goal of this script is to take the centerline of the vessel in .pth format (SimVascular Path files) and extract the NPR and cross-sections of the vessel at a given point.\n"
   ]
  },
  {
   "cell_type": "markdown",
   "metadata": {},
   "source": [
    "### Import frameworks and define necessary functions"
   ]
  },
  {
   "cell_type": "code",
   "execution_count": 2,
   "metadata": {},
   "outputs": [],
   "source": [
    "import vtk\n",
    "import xml.etree.ElementTree as ET\n",
    "import os\n",
    "\n",
    "def ReadVTPFile(FileName):\n",
    "    reader = vtk.vtkXMLPolyDataReader()\n",
    "    reader.SetFileName(FileName)\n",
    "    reader.Update()\n",
    "    return reader\n",
    "\n",
    "def CutPlane(Volume,Origin,Norm):\n",
    "    plane=vtk.vtkPlane()\n",
    "    plane.SetOrigin(Origin)\n",
    "    plane.SetNormal(Norm)\n",
    "    Slice=vtk.vtkCutter()\n",
    "    Slice.GenerateTrianglesOff()\n",
    "    Slice.SetCutFunction(plane)\n",
    "    Slice.SetInputData(Volume)\n",
    "    Slice.Update()\n",
    "    return Slice.GetOutput()\n",
    "\n",
    "def ReadVTIFile(FileName):\n",
    "    reader = vtk.vtkXMLImageDataReader()\n",
    "    reader.SetFileName(FileName)\n",
    "    reader.Update()\n",
    "    return reader.GetOutput()\n",
    "\n",
    "def WriteVTPFile(FileName,Data):\n",
    "    writer=vtk.vtkXMLPolyDataWriter()\n",
    "    writer.SetFileName(FileName)\n",
    "    writer.SetInputData(Data)\n",
    "    writer.Update()\n",
    "\n",
    "def SphereClip(volume_image,center,radius):\n",
    "    sphere = vtk.vtkSphere()\n",
    "    sphere.SetCenter(center)\n",
    "    sphere.SetRadius(radius)\n",
    "\n",
    "    clipper = vtk.vtkClipDataSet()\n",
    "    clipper.SetInputData(volume_image)\n",
    "    clipper.SetClipFunction(sphere)\n",
    "    clipper.InsideOutOn()\n",
    "    clipper.GetOutputInformation(1)\n",
    "    clipper.Update()\n",
    "\n",
    "    return clipper.GetOutput()\n",
    "\n",
    "def PlaneClip(volume,center, a):\n",
    "    box = vtk.vtkBox()\n",
    "    box.SetBounds(\n",
    "        center[0] - a, center[0] + a,\n",
    "        center[1] - a, center[1] + a,\n",
    "        center[2] - a, center[2] + a\n",
    "    )\n",
    "\n",
    "    clipper = vtk.vtkClipDataSet()\n",
    "    clipper.SetInputData(volume)\n",
    "    clipper.SetClipFunction(box)\n",
    "    clipper.InsideOutOn()\n",
    "    clipper.GetOutputInformation(1)\n",
    "    clipper.Update()\n",
    "\n",
    "    return clipper.GetOutput()\n",
    "\n",
    "def gradient_filter(vtk_image):\n",
    "    gradient_filter = vtk.vtkImageGradient()\n",
    "    gradient_filter.SetInputData(vtk_image)\n",
    "    gradient_filter.SetDimensionality(3)\n",
    "    gradient_filter.Update()\n",
    "\n",
    "    return gradient_filter.GetOutput()\n",
    "    \n",
    "def define_borders(gradient_image):\n",
    "    magnitude_filter = vtk.vtkImageMagnitude()\n",
    "    magnitude_filter.SetInputData(gradient_image)\n",
    "    magnitude_filter.Update()\n",
    "    \n",
    "    return magnitude_filter.GetOutput()\n",
    "\n",
    "def ExtractSurface(UnstrcturedGrid):\n",
    "    geometry_filter = vtk.vtkGeometryFilter()\n",
    "    geometry_filter.SetInputData(UnstrcturedGrid)\n",
    "    geometry_filter.Update()\n",
    "\n",
    "    return geometry_filter.GetOutput()\n"
   ]
  },
  {
   "cell_type": "markdown",
   "metadata": {},
   "source": [
    "### Enter the path to the SimVascular pathfile of the vessel and VTI image"
   ]
  },
  {
   "cell_type": "code",
   "execution_count": 3,
   "metadata": {},
   "outputs": [],
   "source": [
    "pathline_file = \"/Users/ana/Documents/AnahitaSeresti/Tesselation/KoenTesselation_SU03A/SimVascular_Edgard/Paths/R_PL_0.pth\"\n",
    "ImagePath = \"/Users/ana/Documents/AnahitaSeresti/Tesselation/KoenTesselation_SU03A/SimVascular_Edgard/Images/ct.vti\""
   ]
  },
  {
   "cell_type": "markdown",
   "metadata": {},
   "source": [
    "### Read the pathline"
   ]
  },
  {
   "cell_type": "code",
   "execution_count": 4,
   "metadata": {},
   "outputs": [],
   "source": [
    "with open(pathline_file, \"r\") as path:\n",
    "    #path.readlines()\n",
    "    tree = ET.parse(path)\n",
    "root = tree.getroot()\n",
    "\n",
    "\n",
    "direction_points = []\n",
    "for direction_point in root.findall(\".//path_point/tangent\"):\n",
    "    x = float(direction_point.attrib['x'])\n",
    "    y = float(direction_point.attrib['y'])\n",
    "    z = float(direction_point.attrib['z'])\n",
    "    direction_points.append((x,y,z))\n",
    "\n",
    "path_points = []\n",
    "for path_point in root.findall(\".//path_point/pos\"):\n",
    "    x = float(path_point.attrib['x'])\n",
    "    y = float(path_point.attrib['y'])\n",
    "    z = float(path_point.attrib['z'])\n",
    "    path_points.append((x,y,z))\n",
    "\n",
    "path_normals = []\n",
    "for normal in root.findall(\".//path_point/rotation\"):\n",
    "    x = float(normal.attrib['x'])\n",
    "    y = float(normal.attrib['y'])\n",
    "    z = float(normal.attrib['z'])\n",
    "    path_normals.append((x,y,z))\n"
   ]
  },
  {
   "cell_type": "markdown",
   "metadata": {},
   "source": [
    "### Read the image and Extract the gradient of the CTA"
   ]
  },
  {
   "cell_type": "code",
   "execution_count": 5,
   "metadata": {},
   "outputs": [],
   "source": [
    "Volume = ReadVTIFile(ImagePath)\n",
    "Volume_Gradient = define_borders(gradient_filter(Volume))"
   ]
  },
  {
   "cell_type": "markdown",
   "metadata": {},
   "source": [
    "### Transform the vessel from 3D to 2D\n",
    "\n",
    " - LAD: in XY plane, flatten Z, note: for proximal Left main and LAD aroun the heart apex doesn't work well.\n",
    " - RCA/LCx: somewhere in between XY and XZ. a normal of (0, $\\frac{\\sqrt(2)}{2}$, $\\frac{\\sqrt(2)}{2}$) is suggested. Also, the desired normal value could be identified on Paraview. "
   ]
  },
  {
   "cell_type": "code",
   "execution_count": null,
   "metadata": {},
   "outputs": [
    {
     "name": "stdout",
     "output_type": "stream",
     "text": [
      "(0.9994824375, -0.01558375, -0.016565162249999998, 0.0, -0.01558375, 0.530775, -0.49877521500000005, 0.0, -0.016565162249999998, -0.49877521500000005, 0.469813596679, 0.0, 0.0, 0.0, 0.0, 1.0)\n"
     ]
    }
   ],
   "source": [
    "projection_matrix_XY = (   #Flatten Z\n",
    "    1, 0, 0, 0,\n",
    "    0, 1, 0, 0,\n",
    "    0, 0, 0, 0,\n",
    "    0, 0, 0, 1\n",
    ")\n",
    "\n",
    "projection_matrix_XZ = (   #Flatten Y\n",
    "    1, 0, 0, 0,\n",
    "    0, 0, 0, 0,\n",
    "    0, 0, 1, 0,\n",
    "    0, 0, 0, 1\n",
    ")\n",
    "\n",
    "projection_matrix_YZ = (   #Flatten X\n",
    "    0, 0, 0, 0,\n",
    "    0, 1, 0, 0,\n",
    "    0, 0, 1, 0,\n",
    "    0, 0, 0, 1\n",
    ")\n",
    "\n",
    "import numpy as np\n",
    "\n",
    "#normal = np.array([0, ((2)**0.5)/2, ((2)**0.5)/2])\n",
    "normal = np.array([-0.02275, -0.6850, -0.728139])\n",
    "I = np.eye(3)\n",
    "P = I - np.outer(normal,normal)\n",
    "projection_matrix = np.zeros((4,4))\n",
    "projection_matrix[:3,:3] = P\n",
    "projection_matrix[3,3] = 1\n",
    "\n",
    "projection_matrix = tuple(projection_matrix.flatten())"
   ]
  },
  {
   "cell_type": "markdown",
   "metadata": {},
   "source": [
    "### Select an appropriate projection matrix based on the orientation of the vessel"
   ]
  },
  {
   "cell_type": "code",
   "execution_count": 7,
   "metadata": {},
   "outputs": [],
   "source": [
    "#projection_matrix = projection_matrix_XY\n",
    "\n",
    "transform = vtk.vtkTransform()\n",
    "transform.SetMatrix(projection_matrix)\n",
    "transform.Update()\n",
    "\n",
    "def Transform3Dto2D(section):\n",
    "    transform_filter = vtk.vtkTransformFilter()\n",
    "    transform_filter.SetInputData(section)\n",
    "    transform_filter.SetTransform(transform)\n",
    "    transform_filter.Update()\n",
    "\n",
    "    return transform_filter.GetOutput()"
   ]
  },
  {
   "cell_type": "markdown",
   "metadata": {},
   "source": [
    "### Extract the vessel NPR"
   ]
  },
  {
   "cell_type": "code",
   "execution_count": 8,
   "metadata": {},
   "outputs": [
    {
     "name": "stdout",
     "output_type": "stream",
     "text": [
      "the number of points in the centerline is: 109\n"
     ]
    }
   ],
   "source": [
    "NPoints = len(path_points)\n",
    "print(\"the number of points in the centerline is:\", NPoints)\n",
    "\n",
    "append_filter_npr3d = vtk.vtkAppendPolyData()\n",
    "append_filter_npr2d = vtk.vtkAppendPolyData()\n",
    "\n",
    "step = 2\n",
    "for i in range(step,NPoints, step):\n",
    "    p = path_points[i]\n",
    "    p_ = path_points[i-step]\n",
    "    #a = (((p[0]-p_[0])**2 + (p[1]-p_[1])**2 + (p[2]-p_[2])**2)**0.5)/2\n",
    "    a = 4\n",
    "    npr3d_ = CutPlane(PlaneClip(Volume,path_points[i],a),path_points[i], path_normals[i])\n",
    "    npr2d_ = Transform3Dto2D(npr3d_)\n",
    "\n",
    "    append_filter_npr3d.AddInputData(npr3d_)\n",
    "    append_filter_npr2d.AddInputData(npr2d_)\n",
    "\n",
    "#print(a)\n",
    "append_filter_npr2d.Update()\n",
    "append_filter_npr3d.Update()\n",
    "#print(path_normals)"
   ]
  },
  {
   "cell_type": "markdown",
   "metadata": {},
   "source": [
    "### Extract the Vessel Cross-section\n",
    "\n",
    "Pick a point number in the range of the number of points contained in the centerline of the vessel. Adjust the number based on the location of the desired cross-section (proximal/mid/distal)."
   ]
  },
  {
   "cell_type": "code",
   "execution_count": 31,
   "metadata": {},
   "outputs": [],
   "source": [
    "cs_loc = 80\n",
    "CrossSection = CutPlane(SphereClip(Volume,path_points[cs_loc],8),path_points[cs_loc],direction_points[cs_loc])\n",
    "CrossSectionGrd = CutPlane(SphereClip(Volume_Gradient,path_points[cs_loc],8),path_points[cs_loc],direction_points[cs_loc])"
   ]
  },
  {
   "cell_type": "markdown",
   "metadata": {},
   "source": [
    "### Save Files"
   ]
  },
  {
   "cell_type": "code",
   "execution_count": 10,
   "metadata": {},
   "outputs": [
    {
     "name": "stderr",
     "output_type": "stream",
     "text": [
      "mkdir: /Users/ana/Documents/AnahitaSeresti/Tesselation/KoenTesselation_SU03A/SimVascular_Edgard/Paths/R_PL_0: File exists\n"
     ]
    }
   ],
   "source": [
    "OutputFolder = os.path.dirname(pathline_file)\n",
    "VesselName = os.path.splitext(os.path.basename(pathline_file))[0]\n",
    "OutputFolder = os.path.join(OutputFolder,VesselName)\n",
    "\n",
    "os.system(f\"mkdir {OutputFolder}\")\n",
    "\n",
    "npr3d_FileName = f\"{VesselName}_NPR3D.vtp\"\n",
    "npr2d_FileName = f\"{VesselName}_NPR2D.vtp\"\n",
    "\n",
    "WriteVTPFile(os.path.join(OutputFolder,npr3d_FileName), append_filter_npr3d.GetOutput())\n",
    "WriteVTPFile(os.path.join(OutputFolder,npr2d_FileName), append_filter_npr2d.GetOutput())\n"
   ]
  },
  {
   "cell_type": "code",
   "execution_count": 32,
   "metadata": {},
   "outputs": [],
   "source": [
    "\n",
    "CS_FileName = f\"{VesselName}_CrossSection_{cs_loc}.vtp\"\n",
    "CS_Grd_FileName = f\"{VesselName}_CrossSection_{cs_loc}_Grd.vtp\"\n",
    "\n",
    "WriteVTPFile(os.path.join(OutputFolder,CS_FileName), CrossSection)\n",
    "WriteVTPFile(os.path.join(OutputFolder,CS_Grd_FileName), CrossSectionGrd)"
   ]
  },
  {
   "cell_type": "markdown",
   "metadata": {},
   "source": [
    "### Project Vessel Centerline and Cross-Section into 2D"
   ]
  },
  {
   "cell_type": "code",
   "execution_count": 26,
   "metadata": {},
   "outputs": [],
   "source": [
    "PathFile_vtp = f\"{os.path.splitext(pathline_file)[0]}.vtp\"\n",
    "CenterLine = ReadVTPFile(PathFile_vtp)\n",
    "\n",
    "CenterLine_2D = Transform3Dto2D(CenterLine.GetOutput())\n",
    "cl_2d_path = os.path.join(OutputFolder,f\"{VesselName}_2D.vtp\")\n",
    "WriteVTPFile(cl_2d_path, CenterLine_2D)\n",
    "\n",
    "CrossSection_2D = Transform3Dto2D(CrossSection)\n",
    "CS_FileName_2D = f\"{VesselName}_CrossSection_{cs_loc}_2D.vtp\"\n",
    "WriteVTPFile(os.path.join(OutputFolder,CS_FileName_2D), CrossSection_2D)"
   ]
  },
  {
   "cell_type": "markdown",
   "metadata": {},
   "source": [
    "### Cut the Centerline at the Stenosis Location"
   ]
  },
  {
   "cell_type": "code",
   "execution_count": null,
   "metadata": {},
   "outputs": [
    {
     "name": "stdout",
     "output_type": "stream",
     "text": [
      "/Users/ana/Documents/AnahitaSeresti/Tesselation/KoenTesselation_SU07A/SimVascular_Derrick/Paths/L_LAD_0.vtp\n"
     ]
    }
   ],
   "source": [
    "cs_loc = 50\n",
    "\n",
    "\n",
    "plane=vtk.vtkPlane()\n",
    "plane.SetOrigin(path_points[cs_loc])\n",
    "plane.SetNormal(direction_points[cs_loc])\n",
    "\n",
    "clipper = vtk.vtkClipDataSet()\n",
    "clipper.SetInputData(CenterLine.GetOutput()) \n",
    "clipper.SetClipFunction(plane)\n",
    "clipper.GetOutputInformation(1)\n",
    "clipper.Update()\n",
    "cl_path_pre = os.path.join(OutputFolder,f\"{VesselName}_PreStenosis.vtp\")\n",
    "WriteVTPFile(cl_path_pre,ExtractSurface(clipper.GetOutput()))\n",
    "\n",
    "clipper.InsideOutOn()\n",
    "clipper.Update()\n",
    "cl_path_post = os.path.join(OutputFolder,f\"{VesselName}_PostStenosis.vtp\")\n",
    "WriteVTPFile(cl_path_post,ExtractSurface(clipper.GetOutput()))"
   ]
  }
 ],
 "metadata": {
  "kernelspec": {
   "display_name": "vtkfenics",
   "language": "python",
   "name": "python3"
  },
  "language_info": {
   "codemirror_mode": {
    "name": "ipython",
    "version": 3
   },
   "file_extension": ".py",
   "mimetype": "text/x-python",
   "name": "python",
   "nbconvert_exporter": "python",
   "pygments_lexer": "ipython3",
   "version": "3.11.4"
  }
 },
 "nbformat": 4,
 "nbformat_minor": 2
}
