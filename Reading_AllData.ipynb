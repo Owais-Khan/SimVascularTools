{
 "cells": [
  {
   "cell_type": "code",
   "execution_count": 66,
   "id": "25b3cb54",
   "metadata": {},
   "outputs": [],
   "source": [
    "import numpy as np\n",
    "#import matplotlib.pyplot as plt"
   ]
  },
  {
   "cell_type": "code",
   "execution_count": 124,
   "id": "d31e29d4",
   "metadata": {},
   "outputs": [],
   "source": [
    "total_steps = 4000\n",
    "single_cycle = 1000\n",
    "nCycles = 4\n",
    "nCOR_r = 8\n",
    "nCOR_l = 12\n",
    "nRCR = 1"
   ]
  },
  {
   "cell_type": "code",
   "execution_count": 125,
   "id": "d9bc5262",
   "metadata": {},
   "outputs": [
    {
     "name": "stdout",
     "output_type": "stream",
     "text": [
      "34\n",
      "50\n"
     ]
    }
   ],
   "source": [
    "state_var_ind = 10-1\n",
    "P_aortic_ind = state_var_ind + nRCR\n",
    "P_cor_l_ind = state_var_ind + nRCR + 2 * nCOR_l\n",
    "print(P_cor_l_ind)\n",
    "P_cor_r_ind = state_var_ind + nRCR + 2*(nCOR_r + nCOR_l)\n",
    "print(P_cor_r_ind)\n",
    "time_ind = P_cor_r_ind + 1\n",
    "time_cyc_ind = P_cor_r_ind + 2\n",
    "Elastance_LV_ind = P_cor_r_ind + 3\n",
    "dElastance_LV_ind = P_cor_r_ind + 4\n",
    "Flow_aorta_ind = P_cor_r_ind + 4 + nRCR\n",
    "Flow_cor_l_ind = P_cor_r_ind + 4 + nRCR + nCOR_l\n",
    "Flow_cor_r_ind = P_cor_r_ind + 4 + nRCR + (nCOR_l + nCOR_r)"
   ]
  },
  {
   "cell_type": "code",
   "execution_count": 126,
   "id": "f4764add",
   "metadata": {},
   "outputs": [
    {
     "name": "stdout",
     "output_type": "stream",
     "text": [
      "4000 101\n"
     ]
    }
   ],
   "source": [
    "#del AllData\n",
    "all_data_file = open(\"AllData_12_fine\",'r')\n",
    "AllData_ = []\n",
    "for line in all_data_file:\n",
    "    AllData_l = [float(value) for value in line.split()]\n",
    "    AllData_.append(AllData_l)        \n",
    "AllData = np.array(AllData_)\n",
    "print(len(AllData),len(AllData[0]))"
   ]
  },
  {
   "cell_type": "code",
   "execution_count": 127,
   "id": "f96c5c15",
   "metadata": {
    "scrolled": true
   },
   "outputs": [
    {
     "name": "stdout",
     "output_type": "stream",
     "text": [
      "107.372225\n",
      "47.454975\n"
     ]
    }
   ],
   "source": [
    "# Aortic Blood Pressure\n",
    "P_aorta = AllData[(nCycles - 1) * single_cycle: nCycles * single_cycle,P_aortic_ind]\n",
    "P_max = np.amax(P_aorta)\n",
    "print(P_max)\n",
    "P_min = np.amin(P_aorta)\n",
    "print(P_min)"
   ]
  },
  {
   "cell_type": "code",
   "execution_count": 128,
   "id": "2afe15c6",
   "metadata": {},
   "outputs": [
    {
     "name": "stdout",
     "output_type": "stream",
     "text": [
      "Flow_aorta: 54.619230265\n",
      "Flow_left_cor: 2.225273417\n",
      "Flow_right_cor: 0.944162787\n",
      "Flow out: 57.788666469\n",
      "SV: 56.29878107499999\n",
      "Ao_Cor_Split: 5.484529056748877\n",
      "L_R_Cor_Split: 70.21038676189741\n"
     ]
    }
   ],
   "source": [
    "# Aortic Flow\n",
    "time = AllData[(nCycles - 1) * single_cycle: nCycles * single_cycle,time_ind]\n",
    "Flow_aorta = np.average(AllData[(nCycles - 1) * single_cycle: nCycles * single_cycle,Flow_aorta_ind])#, time)\n",
    "Flow_left_cor = 0\n",
    "Flow_right_cor = 0\n",
    "for v in range(1,nCOR_l+1):\n",
    "    temp = np.average(AllData[(nCycles - 1) * single_cycle: nCycles * single_cycle, Flow_aorta_ind + v])#, time)\n",
    "    Flow_left_cor = temp + Flow_left_cor\n",
    "for v in range(1,nCOR_r+1):\n",
    "    temp = np.average(AllData[(nCycles - 1) * single_cycle: nCycles * single_cycle, Flow_cor_l_ind + v])#, time)\n",
    "    Flow_right_cor = temp + Flow_right_cor\n",
    "Flow_out = Flow_aorta + Flow_left_cor + Flow_right_cor\n",
    "\n",
    "print (\"Flow_aorta:\",Flow_aorta)\n",
    "print (\"Flow_left_cor:\",Flow_left_cor)\n",
    "print (\"Flow_right_cor:\",Flow_right_cor)\n",
    "print(\"Flow out:\",Flow_out)\n",
    "SV = np.trapz(AllData[(nCycles - 1) * single_cycle: nCycles * single_cycle,8], time)\n",
    "print(\"SV:\", SV)\n",
    "Ao_Cor_Split = (Flow_left_cor + Flow_right_cor)/Flow_out*100.0\n",
    "L_R_Cor_Split = Flow_left_cor/(Flow_right_cor + Flow_left_cor)*100.0\n",
    "print(\"Ao_Cor_Split:\",Ao_Cor_Split)\n",
    "print(\"L_R_Cor_Split:\",L_R_Cor_Split)"
   ]
  },
  {
   "cell_type": "code",
   "execution_count": null,
   "id": "98162feb",
   "metadata": {},
   "outputs": [],
   "source": []
  },
  {
   "cell_type": "code",
   "execution_count": null,
   "id": "11855097",
   "metadata": {},
   "outputs": [],
   "source": []
  }
 ],
 "metadata": {
  "kernelspec": {
   "display_name": "Python 3 (ipykernel)",
   "language": "python",
   "name": "python3"
  },
  "language_info": {
   "codemirror_mode": {
    "name": "ipython",
    "version": 3
   },
   "file_extension": ".py",
   "mimetype": "text/x-python",
   "name": "python",
   "nbconvert_exporter": "python",
   "pygments_lexer": "ipython3",
   "version": "3.8.11"
  }
 },
 "nbformat": 4,
 "nbformat_minor": 5
}
